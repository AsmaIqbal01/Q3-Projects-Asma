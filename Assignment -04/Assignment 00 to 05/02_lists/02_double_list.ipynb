{
  "nbformat": 4,
  "nbformat_minor": 0,
  "metadata": {
    "colab": {
      "provenance": []
    },
    "kernelspec": {
      "name": "python3",
      "display_name": "Python 3"
    },
    "language_info": {
      "name": "python"
    }
  },
  "cells": [
    {
      "cell_type": "code",
      "execution_count": 3,
      "metadata": {
        "colab": {
          "base_uri": "https://localhost:8080/"
        },
        "id": "uCcaq--oOdzf",
        "outputId": "9b9bb567-74fd-4953-d9d9-b25cebb851de"
      },
      "outputs": [
        {
          "output_type": "stream",
          "name": "stdout",
          "text": [
            "02_double_list\n",
            "Before doubled the numbers :  [1, 2, 3, 4, 5]\n",
            "After doubled the numbers:  [2, 4, 6, 8, 10]\n"
          ]
        }
      ],
      "source": [
        "def main():\n",
        "  print('02_double_list')\n",
        "  numbers:list[int]=[1,2,3,4,5]\n",
        "  print(\"Before doubled the numbers : \", numbers)\n",
        "  for i in range(len(numbers)):\n",
        "    elem_at_index=numbers[i]\n",
        "    numbers[i]=elem_at_index*2\n",
        "  print(\"After doubled the numbers: \",numbers)\n",
        "if __name__=='__main__':\n",
        "  main()"
      ]
    }
  ]
}