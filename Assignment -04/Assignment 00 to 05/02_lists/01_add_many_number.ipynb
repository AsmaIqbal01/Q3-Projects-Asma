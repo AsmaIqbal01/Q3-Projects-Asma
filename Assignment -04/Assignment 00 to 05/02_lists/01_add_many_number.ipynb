{
  "nbformat": 4,
  "nbformat_minor": 0,
  "metadata": {
    "colab": {
      "provenance": []
    },
    "kernelspec": {
      "name": "python3",
      "display_name": "Python 3"
    },
    "language_info": {
      "name": "python"
    }
  },
  "cells": [
    {
      "cell_type": "code",
      "execution_count": 8,
      "metadata": {
        "colab": {
          "base_uri": "https://localhost:8080/"
        },
        "id": "WlAEqxgOIpbD",
        "outputId": "8150296c-f4f2-4d62-bab5-896a3ef3f75c"
      },
      "outputs": [
        {
          "output_type": "stream",
          "name": "stdout",
          "text": [
            "01_add_many_number\n",
            "15\n"
          ]
        }
      ],
      "source": [
        "def add_many_numbers(numbers)->int:\n",
        "  total_so_far:int=0\n",
        "  for number in numbers:\n",
        "    total_so_far += number\n",
        "  return total_so_far\n",
        "def main():\n",
        "  print(\"01_add_many_number\")\n",
        "  numbers:list[int]=[1,2,3,4,5]\n",
        "  sum_of_numbers:int=add_many_numbers(numbers)\n",
        "  print(sum_of_numbers)\n",
        "\n",
        "if __name__=='__main__':\n",
        "  main()"
      ]
    }
  ]
}