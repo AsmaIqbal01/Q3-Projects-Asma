{
  "nbformat": 4,
  "nbformat_minor": 0,
  "metadata": {
    "colab": {
      "provenance": []
    },
    "kernelspec": {
      "name": "python3",
      "display_name": "Python 3"
    },
    "language_info": {
      "name": "python"
    }
  },
  "cells": [
    {
      "cell_type": "code",
      "execution_count": 4,
      "metadata": {
        "colab": {
          "base_uri": "https://localhost:8080/",
          "height": 116
        },
        "id": "JgRie3eOpkT7",
        "outputId": "4cf068aa-76f5-4e01-bb49-28c4c54a2fd7"
      },
      "outputs": [
        {
          "name": "stdout",
          "output_type": "stream",
          "text": [
            "05_triangle_perimeter\n",
            "What is the length of side 1? 3\n",
            "What is the length of side 2? 4\n",
            "What is the length of side 3? 5.5\n"
          ]
        },
        {
          "output_type": "display_data",
          "data": {
            "text/plain": [
              "<IPython.core.display.Markdown object>"
            ],
            "text/markdown": "The perimeter of triangle is **_12.5_**"
          },
          "metadata": {}
        }
      ],
      "source": [
        "from IPython.display import display, Markdown\n",
        "def main():\n",
        "  print(\"05_triangle_perimeter\")\n",
        "  side1=float(input(\"What is the length of side 1? \"))\n",
        "  side2=float(input(\"What is the length of side 2? \"))\n",
        "  side3=float(input(\"What is the length of side 3? \"))\n",
        "  triangle_perimeter=side1+side2+side3\n",
        "  display(Markdown(f\"The perimeter of triangle is **_{triangle_perimeter}_**\"))\n",
        "if __name__=='__main__':\n",
        "  main()"
      ]
    }
  ]
}