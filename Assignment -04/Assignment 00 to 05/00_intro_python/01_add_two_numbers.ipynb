{
  "nbformat": 4,
  "nbformat_minor": 0,
  "metadata": {
    "colab": {
      "provenance": []
    },
    "kernelspec": {
      "name": "python3",
      "display_name": "Python 3"
    },
    "language_info": {
      "name": "python"
    }
  },
  "cells": [
    {
      "cell_type": "code",
      "execution_count": null,
      "metadata": {
        "id": "ohTDCYNal15v",
        "colab": {
          "base_uri": "https://localhost:8080/"
        },
        "outputId": "f866c386-0da4-4c04-9db6-9d6cb9236076"
      },
      "outputs": [
        {
          "output_type": "stream",
          "name": "stdout",
          "text": [
            "01_add_two_numbers\n",
            "Enter first number : 5\n",
            "Enter second number :6\n",
            "Total of 5 and 6 is 11\n"
          ]
        }
      ],
      "source": [
        "def main():\n",
        "  print(\"01_add_two_numbers\")\n",
        "  num1=int(input(\"Enter first number : \"))\n",
        "  num2=int(input(\"Enter second number :\"))\n",
        "  total=num1+num2\n",
        "  print(f\"Total of {num1} and {num2} is {total}.\")\n",
        "if __name__=='__main__':\n",
        "  main()"
      ]
    }
  ]
}