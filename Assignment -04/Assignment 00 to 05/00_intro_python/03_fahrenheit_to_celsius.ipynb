{
  "nbformat": 4,
  "nbformat_minor": 0,
  "metadata": {
    "colab": {
      "provenance": []
    },
    "kernelspec": {
      "name": "python3",
      "display_name": "Python 3"
    },
    "language_info": {
      "name": "python"
    }
  },
  "cells": [
    {
      "cell_type": "code",
      "execution_count": null,
      "metadata": {
        "colab": {
          "base_uri": "https://localhost:8080/",
          "height": 81
        },
        "id": "qm2gOFBPgGIn",
        "outputId": "6fe68fe6-631d-45ac-d9e7-137268c06d46"
      },
      "outputs": [
        {
          "name": "stdout",
          "output_type": "stream",
          "text": [
            "03_fahrenheit_to_celsius\n",
            "Enter Temperature in Fahrenheit: 76\n"
          ]
        },
        {
          "output_type": "display_data",
          "data": {
            "text/plain": [
              "<IPython.core.display.Markdown object>"
            ],
            "text/markdown": "Temperature : **_76.0F_**: **_24.444444444444443C_**"
          },
          "metadata": {}
        }
      ],
      "source": [
        "from IPython.display import display, Markdown\n",
        "def main():\n",
        "  print(\"03_fahrenheit_to_celsius\")\n",
        "  degrees_fahrenheit=float(input(\"Enter Temperature in Fahrenheit: \"))\n",
        "  degrees_celsius=(degrees_fahrenheit - 32) * 5.0/9.0\n",
        "  display(Markdown(f\"Temperature : **_{degrees_fahrenheit}F_**: **_{degrees_celsius}C_**\"))\n",
        "if __name__ == '__main__':\n",
        "    main()"
      ]
    }
  ]
}