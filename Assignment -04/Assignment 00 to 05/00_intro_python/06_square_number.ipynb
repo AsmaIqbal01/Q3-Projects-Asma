{
  "nbformat": 4,
  "nbformat_minor": 0,
  "metadata": {
    "colab": {
      "provenance": []
    },
    "kernelspec": {
      "name": "python3",
      "display_name": "Python 3"
    },
    "language_info": {
      "name": "python"
    }
  },
  "cells": [
    {
      "cell_type": "code",
      "execution_count": 4,
      "metadata": {
        "colab": {
          "base_uri": "https://localhost:8080/",
          "height": 81
        },
        "id": "KW_pVfOCscXR",
        "outputId": "67247dfe-2ade-4e26-a467-b7c42eebbf51"
      },
      "outputs": [
        {
          "name": "stdout",
          "output_type": "stream",
          "text": [
            "06_square_number\n",
            "Type a number to see its square: 4.2\n"
          ]
        },
        {
          "output_type": "display_data",
          "data": {
            "text/plain": [
              "<IPython.core.display.Markdown object>"
            ],
            "text/markdown": "4.2 squared is **_8.4_**"
          },
          "metadata": {}
        }
      ],
      "source": [
        "from IPython.display import display, Markdown\n",
        "def main():\n",
        "  print(\"06_square_number\")\n",
        "  num:float=float(input(\"Type a number to see its square: \"))\n",
        "  squared_num:float= float(num *2)\n",
        "  display(Markdown(f\"{num} squared is **_{squared_num}_**\"))\n",
        "if __name__=='__main__':\n",
        "  main()"
      ]
    }
  ]
}