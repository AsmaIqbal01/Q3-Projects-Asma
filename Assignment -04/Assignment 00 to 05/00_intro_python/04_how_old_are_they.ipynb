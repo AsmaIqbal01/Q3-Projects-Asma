{
  "nbformat": 4,
  "nbformat_minor": 0,
  "metadata": {
    "colab": {
      "provenance": []
    },
    "kernelspec": {
      "name": "python3",
      "display_name": "Python 3"
    },
    "language_info": {
      "name": "python"
    }
  },
  "cells": [
    {
      "cell_type": "code",
      "execution_count": null,
      "metadata": {
        "colab": {
          "base_uri": "https://localhost:8080/"
        },
        "id": "ag_mLGX-jt4d",
        "outputId": "6ba0558c-dcae-4388-cb88-907a2b52de9f"
      },
      "outputs": [
        {
          "output_type": "stream",
          "name": "stdout",
          "text": [
            "04_how_old_are_they\n",
            "Anton is 21\n",
            "Beth is 27\n",
            "Chen is 47\n",
            "Drew is 68\n",
            "Ethan is 47\n"
          ]
        }
      ],
      "source": [
        "def main():\n",
        "  print(\"04_how_old_are_they\")\n",
        "  Anton: int = 21\n",
        "  Beth: int = 6 + Anton\n",
        "  Chen:int = 20 + Beth\n",
        "  Drew :int = Chen + Anton\n",
        "  Ethan :int = Chen\n",
        "  print(\"Anton is \"+ str(Anton))\n",
        "  print(\"Beth is \" + str(Beth))\n",
        "  print(\"Chen is \"+ str(Chen))\n",
        "  print(\"Drew is \"+ str(Drew))\n",
        "  print(\"Ethan is \"+ str(Ethan))\n",
        "if __name__== '__main__':\n",
        "  main()\n"
      ]
    }
  ]
}