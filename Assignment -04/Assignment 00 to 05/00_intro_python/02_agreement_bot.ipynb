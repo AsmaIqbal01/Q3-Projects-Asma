{
  "nbformat": 4,
  "nbformat_minor": 0,
  "metadata": {
    "colab": {
      "provenance": []
    },
    "kernelspec": {
      "name": "python3",
      "display_name": "Python 3"
    },
    "language_info": {
      "name": "python"
    }
  },
  "cells": [
    {
      "cell_type": "code",
      "execution_count": null,
      "metadata": {
        "colab": {
          "base_uri": "https://localhost:8080/",
          "height": 81
        },
        "id": "OfVvvecCdRTO",
        "outputId": "b38d9aba-2a72-48fa-9e3d-894ac43ed896"
      },
      "outputs": [
        {
          "name": "stdout",
          "output_type": "stream",
          "text": [
            "02_agreement_bot\n",
            "What's your favorite animal? goat\n"
          ]
        },
        {
          "output_type": "display_data",
          "data": {
            "text/plain": [
              "<IPython.core.display.Markdown object>"
            ],
            "text/markdown": "My <b><i>favourite animal</b><i> is also <b><i>goat</b></i>!"
          },
          "metadata": {}
        }
      ],
      "source": [
        "from IPython.display import display, Markdown\n",
        "def main():\n",
        "  print(\"02_agreement_bot\")\n",
        "  fav_animal=input(\"What's your favorite animal? \")\n",
        "  display(Markdown(f\"My <b><i>favourite animal</b><i> is also <b><i>{fav_animal}</b></i>!\"))\n",
        "if __name__=='__main__':\n",
        "  main()"
      ]
    }
  ]
}